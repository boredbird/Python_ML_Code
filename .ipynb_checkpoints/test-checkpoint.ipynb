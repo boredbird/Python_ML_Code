{
 "cells": [
  {
   "cell_type": "markdown",
   "metadata": {
    "deletable": true,
    "editable": true
   },
   "source": [
    "# import"
   ]
  },
  {
   "cell_type": "code",
   "execution_count": 2,
   "metadata": {
    "collapsed": false,
    "deletable": true,
    "editable": true
   },
   "outputs": [
    {
     "name": "stdout",
     "output_type": "stream",
     "text": [
      "sex            object\n",
      "tip           float64\n",
      "total_bill    float64\n",
      "dtype: object\n"
     ]
    }
   ],
   "source": [
    "import pandas as pd\n",
    "import numpy as np\n",
    "\n",
    "\n",
    "df = pd.DataFrame({'total_bill': [16.99, 10.34, 23.68, 23.68, 24.59],\n",
    "                   'tip': [1.01, 1.66, 3.50, 3.31, 3.61],\n",
    "                   'sex': ['Female', 'Male', 'Male', 'Male', 'Female']})\n",
    "\n",
    "# data type of columns\n",
    "print df.dtypes"
   ]
  },
  {
   "cell_type": "markdown",
   "metadata": {
    "deletable": true,
    "editable": true
   },
   "source": [
    "# select"
   ]
  },
  {
   "cell_type": "code",
   "execution_count": 8,
   "metadata": {
    "collapsed": false,
    "deletable": true,
    "editable": true
   },
   "outputs": [
    {
     "name": "stdout",
     "output_type": "stream",
     "text": [
      "RangeIndex(start=0, stop=5, step=1)\n",
      "Index([u'sex', u'tip', u'total_bill'], dtype='object')\n",
      "[['Female' 1.01 16.99]\n",
      " ['Male' 1.66 10.34]\n",
      " ['Male' 3.5 23.68]\n",
      " ['Male' 3.31 23.68]\n",
      " ['Female' 3.61 24.59]]\n"
     ]
    }
   ],
   "source": [
    "# indexes\n",
    "print df.index\n",
    "# return pandas.Index\n",
    "print df.columns\n",
    "# each row, return array[array]\n",
    "print df.values\n"
   ]
  },
  {
   "cell_type": "code",
   "execution_count": 4,
   "metadata": {
    "collapsed": false,
    "deletable": true,
    "editable": true
   },
   "outputs": [
    {
     "name": "stdout",
     "output_type": "stream",
     "text": [
      "   total_bill   tip\n",
      "1       10.34  1.66\n",
      "2       23.68  3.50\n",
      "3       23.68  3.31\n",
      "    tip  total_bill\n",
      "1  1.66       10.34\n",
      "2  3.50       23.68\n",
      "3  3.31       23.68\n",
      "    tip  total_bill\n",
      "1  1.66       10.34\n",
      "2  3.50       23.68\n",
      "    tip  total_bill\n",
      "1  1.66       10.34\n",
      "2  3.50       23.68\n"
     ]
    }
   ],
   "source": [
    "print df.loc[1:3, ['total_bill', 'tip']]\n",
    "print df.loc[1:3, 'tip': 'total_bill']\n",
    "print df.iloc[1:3, [1, 2]]\n",
    "print df.iloc[1:3, 1: 3]"
   ]
  },
  {
   "cell_type": "code",
   "execution_count": 5,
   "metadata": {
    "collapsed": false,
    "deletable": true,
    "editable": true
   },
   "outputs": [
    {
     "name": "stdout",
     "output_type": "stream",
     "text": [
      "3.31\n",
      "3.31\n"
     ]
    }
   ],
   "source": [
    "# at，根据指定行index及列label，快速定位DataFrame的元素；\n",
    "# iat，与at类似，不同的是根据position来定位的；\n",
    "print df.at[3, 'tip']\n",
    "print df.iat[3, 1]"
   ]
  },
  {
   "cell_type": "code",
   "execution_count": 7,
   "metadata": {
    "collapsed": false,
    "deletable": true,
    "editable": true
   },
   "outputs": [
    {
     "name": "stdout",
     "output_type": "stream",
     "text": [
      "    tip  total_bill\n",
      "1  1.66       10.34\n",
      "2  3.50       23.68\n",
      "3  3.31       23.68\n",
      "   total_bill   tip\n",
      "1       10.34  1.66\n",
      "2       23.68  3.50\n",
      "3       23.68  3.31\n"
     ]
    }
   ],
   "source": [
    "# ix，为loc与iloc的混合体，既支持label也支持position；\n",
    "print df.ix[1:3, [1, 2]]\n",
    "print df.ix[1:3, ['total_bill', 'tip']]"
   ]
  },
  {
   "cell_type": "markdown",
   "metadata": {
    "deletable": true,
    "editable": true
   },
   "source": [
    "# where"
   ]
  },
  {
   "cell_type": "code",
   "execution_count": 10,
   "metadata": {
    "collapsed": false,
    "deletable": true,
    "editable": true
   },
   "outputs": [
    {
     "name": "stdout",
     "output_type": "stream",
     "text": [
      "      sex   tip  total_bill\n",
      "0  Female  1.01       16.99\n",
      "4  Female  3.61       24.59\n",
      "      sex   tip  total_bill\n",
      "2    Male  3.50       23.68\n",
      "3    Male  3.31       23.68\n",
      "4  Female  3.61       24.59\n",
      "      sex   tip  total_bill\n",
      "2    Male  3.50       23.68\n",
      "3    Male  3.31       23.68\n",
      "4  Female  3.61       24.59\n"
     ]
    }
   ],
   "source": [
    "### Pandas实现where filter，较为常用的办法为df[df[colunm] boolean expr]，比如：\n",
    "print df[df['sex'] == 'Female']\n",
    "print df[df['total_bill'] > 20]\n",
    "\n",
    "# or\n",
    "print df.query('total_bill > 20')"
   ]
  },
  {
   "cell_type": "code",
   "execution_count": null,
   "metadata": {
    "collapsed": true,
    "deletable": true,
    "editable": true
   },
   "outputs": [],
   "source": [
    "# 在where子句中常常会搭配and, or, in, not关键词，Pandas中也有对应的实现：\n",
    "# and\n",
    "print df[(df['sex'] == 'Female') & (df['total_bill'] > 20)]\n",
    "# or\n",
    "print df[(df['sex'] == 'Female') | (df['total_bill'] > 20)]\n",
    "# in\n",
    "print df[df['total_bill'].isin([21.01, 23.68, 24.59])]\n",
    "# not\n",
    "print df[-(df['sex'] == 'Male')]\n",
    "print df[-df['total_bill'].isin([21.01, 23.68, 24.59])]\n",
    "# string function\n",
    "print df = df[(-df['app'].isin(sys_app)) & (-df.app.str.contains('^微信\\d+$'))]\n",
    "\n",
    "# 对where条件筛选后只有一行的dataframe取其中某一列的值，其两种实现方式如下：\n",
    "total = df.loc[df['tip'] == 1.66, 'total_bill'].values[0]\n",
    "total = df.get_value(df.loc[df['tip'] == 1.66].index.values[0], 'total_bill')"
   ]
  },
  {
   "cell_type": "markdown",
   "metadata": {
    "deletable": true,
    "editable": true
   },
   "source": [
    "# distinct"
   ]
  },
  {
   "cell_type": "code",
   "execution_count": 12,
   "metadata": {
    "collapsed": true,
    "deletable": true,
    "editable": true
   },
   "outputs": [],
   "source": [
    "# 根据某列对dataframe进行去重：\n",
    "\n",
    "df.drop_duplicates(subset=['sex'], keep='first', inplace=True)\n",
    "# 包含参数：\n",
    "\n",
    "# subset，为选定的列做distinct，默认为所有列；\n",
    "# keep，值选项{'first', 'last', False}，保留重复元素中的第一个、最后一个，或全部删除；\n",
    "# inplace ，默认为False，返回一个新的dataframe；若为True，则返回去重后的原dataframe"
   ]
  },
  {
   "cell_type": "markdown",
   "metadata": {
    "deletable": true,
    "editable": true
   },
   "source": [
    "# group"
   ]
  },
  {
   "cell_type": "code",
   "execution_count": 13,
   "metadata": {
    "collapsed": false,
    "deletable": true,
    "editable": true
   },
   "outputs": [
    {
     "name": "stdout",
     "output_type": "stream",
     "text": [
      "sex\n",
      "Female    1\n",
      "Male      1\n",
      "dtype: int64\n",
      "        tip  total_bill\n",
      "sex                    \n",
      "Female    1           1\n",
      "Male      1           1\n",
      "sex\n",
      "Female    1\n",
      "Male      1\n",
      "Name: tip, dtype: int64\n"
     ]
    }
   ],
   "source": [
    "# group一般会配合合计函数（Aggregate functions）使用，比如：count、avg等。Pandas对合计函数的支持有限，有count和size函数实现SQL的count：\n",
    "print df.groupby('sex').size()\n",
    "print df.groupby('sex').count()\n",
    "print df.groupby('sex')['tip'].count()"
   ]
  },
  {
   "cell_type": "code",
   "execution_count": 14,
   "metadata": {
    "collapsed": false,
    "deletable": true,
    "editable": true
   },
   "outputs": [
    {
     "name": "stdout",
     "output_type": "stream",
     "text": [
      "        total_bill   tip\n",
      "sex                     \n",
      "Female       16.99  1.01\n",
      "Male         10.34  1.66\n",
      "      sex\n",
      "tip      \n",
      "1.01    1\n",
      "1.66    1\n"
     ]
    }
   ],
   "source": [
    "# 对于多合计函数，\n",
    "\n",
    "# select sex, max(tip), sum(total_bill) as total\n",
    "# from tips_tb\n",
    "# group by sex;\n",
    "# 实现在agg()中指定dict：\n",
    "\n",
    "print df.groupby('sex').agg({'tip': np.max, 'total_bill': np.sum})\n",
    "\n",
    "# count(distinct **)\n",
    "print df.groupby('tip').agg({'sex': pd.Series.nunique})"
   ]
  },
  {
   "cell_type": "markdown",
   "metadata": {
    "deletable": true,
    "editable": true
   },
   "source": [
    "# as"
   ]
  },
  {
   "cell_type": "code",
   "execution_count": null,
   "metadata": {
    "collapsed": true,
    "deletable": true,
    "editable": true
   },
   "outputs": [],
   "source": [
    "# first implementation\n",
    "df.columns = ['total', 'pit', 'xes']\n",
    "# second implementation\n",
    "df.rename(columns={'total_bill': 'total', 'tip': 'pit', 'sex': 'xes'}, inplace=True)"
   ]
  },
  {
   "cell_type": "markdown",
   "metadata": {},
   "source": [
    "# join"
   ]
  },
  {
   "cell_type": "code",
   "execution_count": null,
   "metadata": {
    "collapsed": false
   },
   "outputs": [],
   "source": [
    "# 1.\n",
    "df.join(df2, how='left'...)\n",
    "\n",
    "# 2. \n",
    "pd.merge(df1, df2, how='left', left_on='app', right_on='app')\n",
    "# 第一种方法是按DataFrame的index进行join的，而第二种方法才是按on指定的列做join。Pandas满足left、right、inner、full outer四种join方式"
   ]
  },
  {
   "cell_type": "markdown",
   "metadata": {},
   "source": [
    "# order"
   ]
  },
  {
   "cell_type": "code",
   "execution_count": null,
   "metadata": {
    "collapsed": false
   },
   "outputs": [],
   "source": [
    "print df.sort_values(['total_bill', 'tip'], ascending=[False, True])"
   ]
  },
  {
   "cell_type": "markdown",
   "metadata": {},
   "source": [
    "# top "
   ]
  },
  {
   "cell_type": "code",
   "execution_count": null,
   "metadata": {
    "collapsed": true
   },
   "outputs": [],
   "source": [
    "# 对于全局的top：\n",
    "\n",
    "print df.nlargest(3, columns=['total_bill'])\n",
    "# 对于分组top，MySQL的实现（采用自join的方式）：\n",
    "\n",
    "select a.sex, a.tip\n",
    "from tips_tb a\n",
    "where (\n",
    "    select count(*)\n",
    "    from tips_tb b\n",
    "    where b.sex = a.sex and b.tip > a.tip\n",
    ") < 2\n",
    "order by a.sex, a.tip desc;\n",
    "# Pandas的等价实现，思路与上类似：\n",
    "\n",
    "# 1.\n",
    "df.assign(rn=df.sort_values(['total_bill'], ascending=False)\n",
    "          .groupby('sex')\n",
    "          .cumcount()+1)\\\n",
    "    .query('rn < 3')\\\n",
    "    .sort_values(['sex', 'rn'])\n",
    "    \n",
    "# 2.\n",
    "df.assign(rn=df.groupby('sex')['total_bill']\n",
    "          .rank(method='first', ascending=False)) \\\n",
    "    .query('rn < 3') \\\n",
    "    .sort_values(['sex', 'rn'])"
   ]
  }
 ],
 "metadata": {
  "kernelspec": {
   "display_name": "Python 2",
   "language": "python",
   "name": "python2"
  },
  "language_info": {
   "codemirror_mode": {
    "name": "ipython",
    "version": 2
   },
   "file_extension": ".py",
   "mimetype": "text/x-python",
   "name": "python",
   "nbconvert_exporter": "python",
   "pygments_lexer": "ipython2",
   "version": "2.7.13"
  }
 },
 "nbformat": 4,
 "nbformat_minor": 2
}
