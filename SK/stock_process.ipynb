{
 "cells": [
  {
   "cell_type": "markdown",
   "metadata": {},
   "source": [
    "# 连接数据库"
   ]
  },
  {
   "cell_type": "code",
   "execution_count": 3,
   "metadata": {
    "collapsed": true
   },
   "outputs": [],
   "source": [
    "# -*- coding: UTF-8 -*-\n",
    "import MySQLdb\n",
    "import sys\n",
    "from sqlalchemy import create_engine\n",
    "import pandas as pd\n",
    "import time\n",
    "\n",
    "reload(sys)\n",
    "sys.setdefaultencoding('utf-8')\n",
    "host = 'localhost'\n",
    "port = 3306\n",
    "db = 'crawler'\n",
    "user = 'root'\n",
    "password = '123456'\n",
    "\n",
    "engine = create_engine(str(r\"mysql+mysqldb://%s:\" + '%s' + \"@%s/%s\") % (user, password, host, db))\n",
    "df = pd.read_sql(sql=r'select * from stock_pd_price', con=engine)"
   ]
  },
  {
   "cell_type": "code",
   "execution_count": 5,
   "metadata": {
    "collapsed": false
   },
   "outputs": [
    {
     "data": {
      "text/html": [
       "<div>\n",
       "<table border=\"1\" class=\"dataframe\">\n",
       "  <thead>\n",
       "    <tr style=\"text-align: right;\">\n",
       "      <th></th>\n",
       "      <th>id</th>\n",
       "      <th>stock_no</th>\n",
       "      <th>stock_index</th>\n",
       "      <th>index_value</th>\n",
       "      <th>date</th>\n",
       "    </tr>\n",
       "  </thead>\n",
       "  <tbody>\n",
       "    <tr>\n",
       "      <th>0</th>\n",
       "      <td>32748</td>\n",
       "      <td>sh600000</td>\n",
       "      <td>??</td>\n",
       "      <td>15.98</td>\n",
       "      <td>2017-03-22</td>\n",
       "    </tr>\n",
       "    <tr>\n",
       "      <th>1</th>\n",
       "      <td>32749</td>\n",
       "      <td>sh600000</td>\n",
       "      <td>???</td>\n",
       "      <td>43.81??</td>\n",
       "      <td>2017-03-22</td>\n",
       "    </tr>\n",
       "    <tr>\n",
       "      <th>2</th>\n",
       "      <td>32750</td>\n",
       "      <td>sh600000</td>\n",
       "      <td>??</td>\n",
       "      <td>15.98</td>\n",
       "      <td>2017-03-22</td>\n",
       "    </tr>\n",
       "    <tr>\n",
       "      <th>3</th>\n",
       "      <td>32751</td>\n",
       "      <td>sh600000</td>\n",
       "      <td>??</td>\n",
       "      <td>17.60</td>\n",
       "      <td>2017-03-22</td>\n",
       "    </tr>\n",
       "    <tr>\n",
       "      <th>4</th>\n",
       "      <td>32752</td>\n",
       "      <td>sh600000</td>\n",
       "      <td>??</td>\n",
       "      <td>25.04??</td>\n",
       "      <td>2017-03-22</td>\n",
       "    </tr>\n",
       "  </tbody>\n",
       "</table>\n",
       "</div>"
      ],
      "text/plain": [
       "      id  stock_no stock_index index_value        date\n",
       "0  32748  sh600000          ??       15.98  2017-03-22\n",
       "1  32749  sh600000         ???     43.81??  2017-03-22\n",
       "2  32750  sh600000          ??       15.98  2017-03-22\n",
       "3  32751  sh600000          ??       17.60  2017-03-22\n",
       "4  32752  sh600000          ??     25.04??  2017-03-22"
      ]
     },
     "execution_count": 5,
     "metadata": {},
     "output_type": "execute_result"
    }
   ],
   "source": [
    "df.head()"
   ]
  },
  {
   "cell_type": "code",
   "execution_count": null,
   "metadata": {
    "collapsed": true
   },
   "outputs": [],
   "source": []
  }
 ],
 "metadata": {
  "kernelspec": {
   "display_name": "Python 2",
   "language": "python",
   "name": "python2"
  },
  "language_info": {
   "codemirror_mode": {
    "name": "ipython",
    "version": 2
   },
   "file_extension": ".py",
   "mimetype": "text/x-python",
   "name": "python",
   "nbconvert_exporter": "python",
   "pygments_lexer": "ipython2",
   "version": "2.7.13"
  }
 },
 "nbformat": 4,
 "nbformat_minor": 2
}
