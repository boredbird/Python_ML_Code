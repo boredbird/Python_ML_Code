{
 "cells": [
  {
   "cell_type": "code",
   "execution_count": 2,
   "metadata": {
    "collapsed": true
   },
   "outputs": [],
   "source": [
    "from bokeh.charts import Line, show, output_file\n",
    "\n",
    "# build a dataset where multiple columns measure the same thing\n",
    "data = dict(python=[2, 3, 7, 5, 26, 221, 44, 233, 254, 265, 266, 267, 120, 111],\n",
    "            pypy=[12, 33, 47, 15, 126, 121, 144, 233, 254, 225, 226, 267, 110, 130],\n",
    "            jython=[22, 43, 10, 25, 26, 101, 114, 203, 194, 215, 201, 227, 139, 160],\n",
    "            test=['foo', 'bar', 'foo', 'bar', 'foo', 'bar', 'foo', 'bar', 'foo', 'bar',\n",
    "                  'foo', 'bar', 'foo', 'bar']\n",
    "            )\n",
    "\n",
    "# create a line chart where each column of measures receives a unique color and dash style\n",
    "line = Line(data, y=['python', 'pypy', 'jython'],\n",
    "            dash=['python', 'pypy', 'jython'],\n",
    "            color=['python', 'pypy', 'jython'],\n",
    "            legend_sort_field = 'color',\n",
    "            legend_sort_direction = 'ascending',\n",
    "            title=\"Interpreter Sample Data\", ylabel='Duration', legend=True)\n",
    "\n",
    "output_file(\"line_single.html\", title=\"line_single.py example\")\n",
    "\n",
    "show(line)"
   ]
  },
  {
   "cell_type": "code",
   "execution_count": null,
   "metadata": {
    "collapsed": true
   },
   "outputs": [],
   "source": [
    ""
   ]
  }
 ],
 "metadata": {
  "kernelspec": {
   "display_name": "Python 2",
   "language": "python",
   "name": "python2"
  },
  "language_info": {
   "codemirror_mode": {
    "name": "ipython",
    "version": 2.0
   },
   "file_extension": ".py",
   "mimetype": "text/x-python",
   "name": "python",
   "nbconvert_exporter": "python",
   "pygments_lexer": "ipython2",
   "version": "2.7.13"
  }
 },
 "nbformat": 4,
 "nbformat_minor": 0
}